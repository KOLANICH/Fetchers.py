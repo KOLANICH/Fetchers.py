{
	"cells": [{
			"cell_type": "code",
			"execution_count": 1,
			"metadata": {
				"scrolled": true
			},
			"outputs": [],
			"source": ["import re\n", "from hashlib import sha256\n", "import requests\n", "import datetime\n", "from pathlib import Path\n", "\n", "from fetchers.FetchConfig import FetchConfig\n", "from fetchers import DiscoverDownloadVerifyUnpackFetcher, GitRepoFetcher\n", "from fetchers.discoverers.GitHub import GitHubReleasesDiscoverer\n", "from fetchers.discoverers.DNF import DNFDiscoverer\n", "from fetchers.unpackers.compression.gzip import GZIP\n", "from fetchers.unpackers.archives import Archive\n", "from fetchers.unpackers.archives.tar import Tar\n", "from fetchers.verifiers.OpenPGP import OpenPGPVerifier\n", "from fetchers.verifiers.hashlist import HashlistVerifier\n", "\n", "thisDir = Path(\".\").absolute()\n", "cfg = FetchConfig(downloadsTmp=thisDir / \"downloads\")"]
		}, {
			"cell_type": "markdown",
			"metadata": {},
			"source": ["# Downloading source code from a Git repo"]
		}, {
			"cell_type": "code",
			"execution_count": 2,
			"metadata": {},
			"outputs": [{
					"data": {
						"application/json": {
							"ascii": false,
							"bar_format": null,
							"colour": null,
							"elapsed": 0.04928922653198242,
							"initial": 0,
							"n": 0,
							"ncols": null,
							"nrows": null,
							"postfix": null,
							"prefix": "\u001b[33mCloning\u001b[39m a \u001b[94mgit repo\u001b[39m",
							"rate": null,
							"total": null,
							"unit": "it",
							"unit_divisor": 1000,
							"unit_scale": false
						},
						"application/vnd.jupyter.widget-view+json": {
							"model_id": "e95fba32755a481e887f3ac2281e6b44",
							"version_major": 2,
							"version_minor": 0
						},
						"text/plain": ["\u001b[33mCloning\u001b[39m a \u001b[94mgit repo\u001b[39m: 0it [00:00, ?it/s]"]
					},
					"metadata": {},
					"output_type": "display_data"
				}, {
					"name": "stdout",
					"output_type": "stream",
					"text": ["\u001b[33mDetected\u001b[39m \u001b[94mservice\u001b[39m \u001b[95m<fetchers.webServices.services.GitHub.GitHubService object at 0x7fde88e94ca0>\u001b[39m\n", "\n", "\n", "52 / 60 86.66666666666667% limit will be reset: 2021-03-11 15:35:47 in -1 day, 21:02:02.950156\n", "\u001b[33mCloning\u001b[39m \u001b[95mhttps://github.com/fedora-modularity/libmodulemd\u001b[39m to \u001b[95m/home/KOLANICH/fetchers.py/modulemd\u001b[39m ...\n", "\n", "\n", "\b\u001b[33mCloned\u001b[39m\n", "\n", "\n", "\u001b[94mversion\u001b[39m from \u001b[94mtag\u001b[39m: \u001b[95m2.12.0\u001b[39m\n"]
				}
			],
			"source": ["moduleMdFetcher = GitRepoFetcher(\"https://github.com/fedora-modularity/libmodulemd\", refspec=\"main\")\n", "fetchedInfo = moduleMdFetcher(thisDir / \"modulemd\", cfg)  # for this one config is not necessary"]
		}, {
			"cell_type": "code",
			"execution_count": 3,
			"metadata": {},
			"outputs": [{
					"name": "stdout",
					"output_type": "stream",
					"text": ["AnyVer('2.12.0')\n", "2.12.0\n", "2\n", "12\n", "0\n", "Aip6mTFwGQHpnJUOJCTQKQ==\n"]
				}
			],
			"source": ["print(repr(fetchedInfo.version))\n", "print(fetchedInfo.version)\n", "print(fetchedInfo.version.major)\n", "print(fetchedInfo.version.minor)\n", "print(fetchedInfo.version.patch)\n", "print(fetchedInfo.fetcherID)"]
		}, {
			"cell_type": "code",
			"execution_count": 4,
			"metadata": {},
			"outputs": [{
					"data": {
						"text/plain": ["datetime.datetime(2021, 1, 15, 5, 9, 23)"]
					},
					"execution_count": 4,
					"metadata": {},
					"output_type": "execute_result"
				}
			],
			"source": ["datetime.datetime.fromtimestamp(fetchedInfo.time)"]
		}, {
			"cell_type": "markdown",
			"metadata": {},
			"source": ["# Downloading binary builds from GitHub releases\n", "(Tar unpacker has a minor bug in progress reporter: it overestimates the size of files in the tarball a bit, that's why the progressbar is red)"]
		}, {
			"cell_type": "code",
			"execution_count": 5,
			"metadata": {},
			"outputs": [{
					"data": {
						"text/plain": ["35911"]
					},
					"execution_count": 5,
					"metadata": {},
					"output_type": "execute_result"
				}
			],
			"source": ["# Getting Bradley King's key (you should ship the key, I just don't want to junk the repo, but the lib can also accept `bytes`) and saving it\n", "bradKeyResp = requests.get(\"https://keyserver.ubuntu.com/pks/lookup?op=get&search=0xcba23971357c2e6590d9efd3ec8fef3a7bfb4eda\")\n", "bradKeyPath = thisDir / \"brad.gpg\"\n", "bradKeyPath.write_bytes(bradKeyResp.content)"]
		}, {
			"cell_type": "code",
			"execution_count": 6,
			"metadata": {},
			"outputs": [{
					"name": "stdout",
					"output_type": "stream",
					"text": ["51 / 60 85.0% limit will be reset: 2021-03-11 15:35:47 in -1 day, 21:02:00.475356\n"]
				}, {
					"name": "stderr",
					"output_type": "stream",
					"text": ["Selected release:  [3.19.6, release] <{'binary.tgz': DownloadTargetFile('binary.tgz', 'cmake-3.19.6-Linux-x86_64.tar.gz', datetime.datetime(2021, 2, 24, 16, 19, 50, tzinfo=tzutc()), datetime.datetime(2021, 2, 24, 16, 20, 5, tzinfo=tzutc()), 'https://github.com/Kitware/CMake/releases/download/v3.19.6/cmake-3.19.6-Linux-x86_64.tar.gz', 42650953), 'hashes': DownloadTargetFile('hashes', 'cmake-3.19.6-SHA-256.txt', datetime.datetime(2021, 2, 24, 16, 21, 32, tzinfo=tzutc()), datetime.datetime(2021, 2, 24, 16, 21, 33, tzinfo=tzutc()), 'https://github.com/Kitware/CMake/releases/download/v3.19.6/cmake-3.19.6-SHA-256.txt', 1343), 'hashes.asc': DownloadTargetFile('hashes.asc', 'cmake-3.19.6-SHA-256.txt.asc', datetime.datetime(2021, 2, 24, 16, 22, 3, tzinfo=tzutc()), datetime.datetime(2021, 2, 24, 16, 22, 3, tzinfo=tzutc()), 'https://github.com/Kitware/CMake/releases/download/v3.19.6/cmake-3.19.6-SHA-256.txt.asc', 833)}>\n"]
				}, {
					"name": "stdout",
					"output_type": "stream",
					"text": ["downloadedTargets {'binary.tgz': DownloadTarget('binary.tgz', 'cmake-3.19.6-Linux-x86_64.tar.gz', datetime.datetime(2021, 2, 24, 16, 20, 5, tzinfo=tzutc())), 'hashes': DownloadTarget('hashes', 'cmake-3.19.6-SHA-256.txt', datetime.datetime(2021, 2, 24, 16, 21, 33, tzinfo=tzutc())), 'hashes.asc': DownloadTarget('hashes.asc', 'cmake-3.19.6-SHA-256.txt.asc', datetime.datetime(2021, 2, 24, 16, 22, 3, tzinfo=tzutc()))}\n", "hashes {'cmake-3.19.6-Linux-aarch64.sh': 'f383c2ef96e5de47c0a55957e9af0bdfcf99d3988c17103767c9ef1b3cd8c0a9', 'cmake-3.19.6-Linux-aarch64.tar.gz': '69ec045c6993907a4f4a77349d0a0668f1bd3ce8bc5f6fbab6dc7a7e2ffc4f80', 'cmake-3.19.6-Linux-x86_64.sh': 'd94155cef56ff88977306653a33e50123bb49885cd085edd471d70dfdfc4f859', 'cmake-3.19.6-Linux-x86_64.tar.gz': '139580473b84f5c6cf27b1d1ac84e9aa6968aa13e4b1900394c50075b366fb15', 'cmake-3.19.6-macos-universal.dmg': 'f840e573493ce41c5ff3bc389a7cba6fcc4ec758de612fe2195552258b6ead43', 'cmake-3.19.6-macos-universal.tar.gz': 'c0b73e5871e82153f0bced071c8f1a9e2b1884645d47c0565c7cb28fe894e6c7', 'cmake-3.19.6-macos10.10-universal.dmg': '949f9abf61b705d1001bdaec8dbe4a793eaab84b9848856129525338690da848', 'cmake-3.19.6-macos10.10-universal.tar.gz': '19167342ab45798d8021522b24940bc3b0791333ca374a8f04b9d3dfa851973e', 'cmake-3.19.6-win32-x86.msi': '860768c5f71e747164d4fe22e041aea17f4aece3248ad56a881e982dc253ca97', 'cmake-3.19.6-win32-x86.zip': 'e0cd5a2ec34bd7954238ca2a4c7d3c67c49dac2ea285be3c098662a005ad46e0', 'cmake-3.19.6-win64-x64.msi': 'c3d48a91dc1637e7fd832620ae6de8c252f71d4d3f3013f935cb018e14fc7a45', 'cmake-3.19.6-win64-x64.zip': '6883a07f95ae01360d24f1341622f71b3e6ddc6251381752cd4a4d9d4d704c67', 'cmake-3.19.6.tar.gz': 'ec87ab67c45f47c4285f204280c5cde48e1c920cfcfed1555b27fb3b1a1d20ba', 'cmake-3.19.6.zip': 'c5426a9048eb0bb9f51c051d0b5aca81d71ee5e87dd55d261faadd0b6e610eb1'}\n"]
				}, {
					"data": {
						"application/json": {
							"ascii": false,
							"bar_format": null,
							"colour": null,
							"elapsed": 0.035207509994506836,
							"initial": 0,
							"n": 0,
							"ncols": null,
							"nrows": null,
							"postfix": null,
							"prefix": "\u001b[33munpacking\u001b[39m \u001b[94marchive\u001b[39m",
							"rate": null,
							"total": 121725440,
							"unit": "it",
							"unit_divisor": 1000,
							"unit_scale": false
						},
						"application/vnd.jupyter.widget-view+json": {
							"model_id": "b34c1a38d513459d92aa0d0463425e3f",
							"version_major": 2,
							"version_minor": 0
						},
						"text/plain": ["\u001b[33munpacking\u001b[39m \u001b[94marchive\u001b[39m:   0%|\t\t  | 0/121725440 [00:00<?, ?it/s]"]
					},
					"metadata": {},
					"output_type": "display_data"
				}
			],
			"source": ["versionRxText = \"(?:\\\\d+\\\\.){1,2}\\\\d+(?:-rc\\\\d+)?\"\n", "platformMarker = \"Linux-x86_64\"\n", "hashFuncName = \"SHA-256\"\n", "downloadFileNameRx = re.compile(\"^\" + \"-\".join((\"cmake\", versionRxText, platformMarker)) + \"\\\\.tar\\\\.gz$\")\n", "hashesFileNameRxText = \"-\".join((\"cmake\", versionRxText, hashFuncName)) + \"\\\\.txt\"\n", "hashesSigFileNameRxText = hashesFileNameRxText + \"\\\\.(?:asc|sig|gpg)\"\n", "\n", "cmakeFetcher = DiscoverDownloadVerifyUnpackFetcher(\n", "\tGitHubReleasesDiscoverer(\n", "\t\t\"Kitware/CMake\", tagRx=re.compile(\"^v(\" + versionRxText + \")$\"),\n", "\t\tdownloadFileNamesRxs={\n", "\t\t\t\"binary.tgz\": downloadFileNameRx,\n", "\t\t\t\"hashes\": re.compile(\"^\" + hashesFileNameRxText + \"$\"),\n", "\t\t\t\"hashes.asc\": re.compile(\"^\" + hashesSigFileNameRxText + \"$\"),\n", "\t\t},\n", "\t\ttitleRx = None\n", "\t),\n", "\tHashlistVerifier(OpenPGPVerifier, sha256, hashesFileName=\"hashes\",  signatureFileName=\"hashes.asc\", keyFingerprint = \"CBA23971357C2E6590D9EFD3EC8FEF3A7BFB4EDA\", keyFile=bradKeyPath),\n", "\tArchive(\"binary.tgz\", Tar, GZIP)\n", ")\n", "fetchedInfo = cmakeFetcher(\"./cmake\", cfg)"]
		}, {
			"cell_type": "code",
			"execution_count": 7,
			"metadata": {},
			"outputs": [{
					"data": {
						"text/plain": ["'Y83m5Z6NlrxEbpJ3IIHf4Q=='"]
					},
					"execution_count": 7,
					"metadata": {},
					"output_type": "execute_result"
				}
			],
			"source": ["cmakeFetcher.id"]
		}, {
			"cell_type": "code",
			"execution_count": 8,
			"metadata": {},
			"outputs": [{
					"data": {
						"text/plain": ["AnyVer('3.19.6')"]
					},
					"execution_count": 8,
					"metadata": {},
					"output_type": "execute_result"
				}
			],
			"source": ["fetchedInfo.version"]
		}, {
			"cell_type": "code",
			"execution_count": 9,
			"metadata": {
				"scrolled": false
			},
			"outputs": [{
					"data": {
						"text/plain": ["datetime.datetime(2021, 2, 24, 16, 22, 3, tzinfo=tzutc())"]
					},
					"execution_count": 9,
					"metadata": {},
					"output_type": "execute_result"
				}
			],
			"source": ["fetchedInfo.time"]
		}
	],
	"metadata": {
		"kernelspec": {
			"display_name": "Python 3",
			"language": "python",
			"name": "python3"
		},
		"language_info": {
			"codemirror_mode": {
				"name": "ipython",
				"version": 3
			},
			"file_extension": ".py",
			"mimetype": "text/x-python",
			"name": "python",
			"nbconvert_exporter": "python",
			"pygments_lexer": "ipython3",
			"version": "3.8.6"
		}
	},
	"nbformat": 4,
	"nbformat_minor": 4
}
